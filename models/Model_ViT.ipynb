{
 "cells": [
  {
   "cell_type": "markdown",
   "metadata": {
    "colab_type": "text",
    "id": "view-in-github"
   },
   "source": [
    "<a href=\"https://colab.research.google.com/github/pergazuz/Leukemia-Classification-based-on-Microscopic-Images/blob/main/CPE352_Project_Model_MaxVIT.ipynb\" target=\"_parent\"><img src=\"https://colab.research.google.com/assets/colab-badge.svg\" alt=\"Open In Colab\"/></a>"
   ]
  },
  {
   "cell_type": "markdown",
   "metadata": {
    "id": "XcemBoAkqguP"
   },
   "source": [
    "# Download Data from kaggle"
   ]
  },
  {
   "cell_type": "code",
   "execution_count": null,
   "metadata": {
    "colab": {
     "base_uri": "https://localhost:8080/"
    },
    "id": "fD4whsCNfWqj",
    "outputId": "bfdff8f4-fa46-4bf2-f71d-d50b4f1667ba"
   },
   "outputs": [],
   "source": [
    "from google.colab import drive\n",
    "drive.mount('/content/gdrive')"
   ]
  },
  {
   "cell_type": "code",
   "execution_count": null,
   "metadata": {
    "id": "WZSmKs_lghsF"
   },
   "outputs": [],
   "source": [
    "import os\n",
    "os.environ['KAGGLE_CONFIG_DIR'] = \"/content/gdrive/My Drive/colab\""
   ]
  },
  {
   "cell_type": "code",
   "execution_count": null,
   "metadata": {
    "colab": {
     "base_uri": "https://localhost:8080/"
    },
    "id": "6C3pRxldgjxA",
    "outputId": "a1a71ff5-902b-4078-9715-f1a8a630598b"
   },
   "outputs": [],
   "source": [
    "#changing the working directory\n",
    "%cd /content\n",
    "#Check the present working directory using pwd command\n",
    "!kaggle datasets download -d andrewmvd/leukemia-classification"
   ]
  },
  {
   "cell_type": "code",
   "execution_count": null,
   "metadata": {
    "colab": {
     "base_uri": "https://localhost:8080/"
    },
    "id": "fTvoJKb3goDk",
    "outputId": "192ded25-6520-4fe7-a169-f2e39eb905bb"
   },
   "outputs": [],
   "source": [
    "# !unzip /content/leukemia-classification.zip  && /content/leukemia-classification.zip"
   ]
  },
  {
   "cell_type": "code",
   "execution_count": null,
   "metadata": {
    "colab": {
     "base_uri": "https://localhost:8080/"
    },
    "id": "Pjd6WpSWgqiE",
    "outputId": "f2f51e1c-7dac-442b-d745-2bf0986ff781"
   },
   "outputs": [],
   "source": [
    "!pip install torch transformers datasets evaluate pillow==9.2.0\n",
    "!pip install git+https://github.com/rwightman/pytorch-image-models.git"
   ]
  },
  {
   "cell_type": "code",
   "execution_count": 5,
   "metadata": {},
   "outputs": [],
   "source": [
    "import gc\n",
    "\n",
    "gc.collect()\n",
    "torch.cuda.empty_cache()"
   ]
  },
  {
   "cell_type": "markdown",
   "metadata": {
    "id": "I4XqIePLqmuz"
   },
   "source": [
    "# Import lib"
   ]
  },
  {
   "cell_type": "code",
   "execution_count": 1,
   "metadata": {
    "id": "xZ1hO4ynhHAk"
   },
   "outputs": [
    {
     "name": "stderr",
     "output_type": "stream",
     "text": [
      "2024-04-12 18:53:36.028156: I tensorflow/core/platform/cpu_feature_guard.cc:210] This TensorFlow binary is optimized to use available CPU instructions in performance-critical operations.\n",
      "To enable the following instructions: AVX2 FMA, in other operations, rebuild TensorFlow with the appropriate compiler flags.\n",
      "2024-04-12 18:53:37.902029: W tensorflow/compiler/tf2tensorrt/utils/py_utils.cc:38] TF-TRT Warning: Could not find TensorRT\n"
     ]
    }
   ],
   "source": [
    "import torch\n",
    "import torch.nn as nn\n",
    "import torchvision.transforms as T\n",
    "from torch.utils.data import DataLoader, random_split\n",
    "\n",
    "import timm\n",
    "import timm.optim\n",
    "import timm.scheduler\n",
    "from timm.data import ImageDataset, create_dataset, create_loader\n",
    "from timm.data.transforms_factory import create_transform\n",
    "\n",
    "import matplotlib.pyplot as plt\n",
    "from sklearn.metrics import confusion_matrix\n",
    "from sklearn.metrics import ConfusionMatrixDisplay\n",
    "from PIL import Image\n",
    "\n",
    "import evaluate\n",
    "\n",
    "import numpy as np\n",
    "import pandas as pd\n",
    "from scipy import stats\n",
    "\n",
    "from tqdm.notebook import tqdm\n",
    "\n",
    "import glob\n",
    "\n",
    "from sklearn.model_selection import KFold\n",
    "\n",
    "from copy import copy\n",
    "\n",
    "import shutil"
   ]
  },
  {
   "cell_type": "markdown",
   "metadata": {
    "id": "Cc9O2Y0hqu47"
   },
   "source": [
    "# Data coverter"
   ]
  },
  {
   "cell_type": "code",
   "execution_count": 2,
   "metadata": {
    "colab": {
     "base_uri": "https://localhost:8080/"
    },
    "id": "uS6oFt_soNGN",
    "outputId": "2390a9ff-cc8c-4f8f-b5b8-cd6f2cdaa482"
   },
   "outputs": [],
   "source": [
    "import os\n",
    "from PIL import Image\n",
    "\n",
    "def count_bmp_files(root_dir):\n",
    "    \"\"\"\n",
    "    Count the number of BMP files within a directory tree.\n",
    "\n",
    "    :param root_dir: Root directory to start counting.\n",
    "    :return: Total number of BMP files.\n",
    "    \"\"\"\n",
    "    count = 0\n",
    "    for subdir, dirs, files in os.walk(root_dir):\n",
    "        for file in files:\n",
    "            if file.endswith('.bmp'):\n",
    "                count += 1\n",
    "    return count\n",
    "\n",
    "def convert_bmp_to_png(root_dir):\n",
    "    \"\"\"\n",
    "    Convert all BMP files to PNG within a directory tree and display progress.\n",
    "\n",
    "    :param root_dir: Root directory to start the conversion process.\n",
    "    \"\"\"\n",
    "    total_files = count_bmp_files(root_dir)\n",
    "    converted_count = 0\n",
    "\n",
    "    for subdir, dirs, files in os.walk(root_dir):\n",
    "        for file in files:\n",
    "            if file.endswith('.bmp'):\n",
    "                bmp_path = os.path.join(subdir, file)\n",
    "                png_path = bmp_path.replace('.bmp', '.png')\n",
    "\n",
    "                # Open the BMP and save as PNG\n",
    "                with Image.open(bmp_path) as img:\n",
    "                    img.save(png_path)\n",
    "\n",
    "                os.remove(bmp_path)\n",
    "\n",
    "                converted_count += 1\n",
    "                progress_percent = (converted_count / total_files) * 100\n",
    "                print(f\"Converted: {bmp_path} -> {png_path} [{progress_percent:.2f}% completed]\")\n",
    "\n",
    "# Usage\n",
    "# convert_bmp_to_png('leukemia-classification/C-NMC_Leukemia/')"
   ]
  },
  {
   "cell_type": "code",
   "execution_count": 3,
   "metadata": {},
   "outputs": [
    {
     "data": {
      "image/png": "[encoded data removed]",
      "text/plain": [
       "<Figure size 640x480 with 1 Axes>"
      ]
     },
     "metadata": {},
     "output_type": "display_data"
    }
   ],
   "source": [
    "# Define the base directory for training data\n",
    "base_dir = \"leukemia-classification/C-NMC_Leukemia/training_data\"\n",
    "\n",
    "# Initialize a dictionary to hold the count of images in each class across all folds\n",
    "# Now includes 'hem' to accumulate counts from 'hem' and 'augmented_hem'\n",
    "class_counts = {'all': 0, 'hem': 0}\n",
    "\n",
    "# Loop through each fold and add the counts to the class_counts dictionary\n",
    "for fold in ['fold_0', 'fold_1', 'fold_2']:\n",
    "    fold_path = os.path.join(base_dir, fold)\n",
    "    # Loop through the classes, 'augmented_hem' counts are added to 'hem'\n",
    "    for class_name in ['all', 'hem', 'augmented_hem']:\n",
    "        class_path = os.path.join(fold_path, class_name)\n",
    "        # Check if the class_path exists to accommodate for 'hem' and 'augmented_hem'\n",
    "        if os.path.exists(class_path):\n",
    "            num_images = len([name for name in os.listdir(class_path) if os.path.isfile(os.path.join(class_path, name))])\n",
    "            # 'augmented_hem' counts are added to 'hem'\n",
    "            if class_name == 'augmented_hem':\n",
    "                class_counts['hem'] += num_images\n",
    "            else:\n",
    "                class_counts[class_name] += num_images\n",
    "\n",
    "# Plotting\n",
    "fig, ax = plt.subplots()\n",
    "\n",
    "# Set of different colors for the bars\n",
    "colors = ['blue', 'green']\n",
    "\n",
    "# Plot the counts for each class, removing 'augmented_hem' from the plot\n",
    "ax.bar(class_counts.keys(), class_counts.values(), color=colors)\n",
    "\n",
    "# Adding the count above each bar\n",
    "for i, (class_name, count) in enumerate(class_counts.items()):\n",
    "    ax.text(i, count, str(count), ha='center', va='bottom')\n",
    "\n",
    "# Adding labels and title\n",
    "plt.xlabel('Class')\n",
    "plt.ylabel('Number of Images')\n",
    "plt.title('Total Number of Images per Class Across All Folds')\n",
    "\n",
    "# Show the plot\n",
    "plt.show()"
   ]
  },
  {
   "cell_type": "code",
   "execution_count": 5,
   "metadata": {
    "id": "_0d-_DiahdX2"
   },
   "outputs": [],
   "source": [
    "train_files = glob.glob(\"leukemia-classification/C-NMC_Leukemia/training_data/***/**/*.png\")\n",
    "test_files = glob.glob(\"leukemia-classification/C-NMC_Leukemia/testing_data/**/*.png\")\n",
    "\n",
    "# /content/C-NMC_Leukemia/testing_data/**/*.bmp\n",
    "# /content/C-NMC_Leukemia/testing_data/C-NMC_test_final_phase_data\n",
    "# /content/C-NMC_Leukemia/training_data/***/**/*.bmp\n",
    "# /content/C-NMC_Leukemia/training_data/fold_0/all/UID_11_10_1_all.bmp"
   ]
  },
  {
   "cell_type": "code",
   "execution_count": 2,
   "metadata": {},
   "outputs": [
    {
     "name": "stdout",
     "output_type": "stream",
     "text": [
      "Dataset reorganization complete.\n"
     ]
    }
   ],
   "source": [
    "import os\n",
    "import shutil\n",
    "\n",
    "def reorganize_dataset(source_dir, target_dir):\n",
    "    \"\"\"\n",
    "    Reorganize the dataset from multiple fold-based class directories\n",
    "    into a simplified class structure.\n",
    "\n",
    "    Parameters:\n",
    "        source_dir (str): The directory containing the original dataset with folds.\n",
    "        target_dir (str): The directory where the reorganized dataset will be stored.\n",
    "    \"\"\"\n",
    "    # Ensure the target directory exists\n",
    "    if not os.path.exists(target_dir):\n",
    "        os.makedirs(target_dir)\n",
    "\n",
    "    # Define the class directories in the target structure\n",
    "    classes = ['all', 'hem']\n",
    "    for cls in classes:\n",
    "        os.makedirs(os.path.join(target_dir, cls), exist_ok=True)\n",
    "\n",
    "    # Define the folds to process\n",
    "    folds = ['fold_0', 'fold_1', 'fold_2']\n",
    "\n",
    "    # Loop over each fold and move files\n",
    "    for fold in folds:\n",
    "        fold_path = os.path.join(source_dir, fold)\n",
    "        \n",
    "        # Process 'all' class\n",
    "        all_class_path = os.path.join(fold_path, 'all')\n",
    "        for filename in os.listdir(all_class_path):\n",
    "            shutil.copy(os.path.join(all_class_path, filename), os.path.join(target_dir, 'all', filename))\n",
    "        \n",
    "        # Process 'hem' class\n",
    "        hem_class_path = os.path.join(fold_path, 'hem')\n",
    "        for filename in os.listdir(hem_class_path):\n",
    "            shutil.copy(os.path.join(hem_class_path, filename), os.path.join(target_dir, 'hem', filename))\n",
    "        \n",
    "        # Process 'augmented_hem' class and move to 'hem'\n",
    "        augmented_hem_class_path = os.path.join(fold_path, 'augmented_hem')\n",
    "        for filename in os.listdir(augmented_hem_class_path):\n",
    "            shutil.copy(os.path.join(augmented_hem_class_path, filename), os.path.join(target_dir, 'hem', filename))\n",
    "\n",
    "    print(\"Dataset reorganization complete.\")\n",
    "\n",
    "# Define the source and target directory paths\n",
    "source_dir = \"leukemia-classification/C-NMC_Leukemia/training_data\"\n",
    "target_dir = \"leukemia-classification/C-NMC_Leukemia/new_training_data\"\n",
    "\n",
    "# Run the reorganization function\n",
    "reorganize_dataset(source_dir, target_dir)"
   ]
  },
  {
   "cell_type": "code",
   "execution_count": 6,
   "metadata": {
    "colab": {
     "base_uri": "https://localhost:8080/",
     "height": 617
    },
    "id": "8oGiQjPuhpNP",
    "outputId": "fbfd1cac-c4cf-4a11-a7f4-c90f6cb79b58"
   },
   "outputs": [
    {
     "data": {
      "image/jpeg": "[encoded data removed]",
      "image/png": "[encoded data removed]",
      "text/plain": [
       "<PIL.Image.Image image mode=RGB size=600x600>"
      ]
     },
     "metadata": {},
     "output_type": "display_data"
    }
   ],
   "source": [
    "example = Image.open(test_files[1]).convert(\"RGB\")\n",
    "display(example)"
   ]
  },
  {
   "cell_type": "code",
   "execution_count": 7,
   "metadata": {},
   "outputs": [
    {
     "data": {
      "image/png": "[encoded data removed]",
      "text/plain": [
       "<Figure size 640x480 with 1 Axes>"
      ]
     },
     "metadata": {},
     "output_type": "display_data"
    }
   ],
   "source": [
    "import os\n",
    "import matplotlib.pyplot as plt\n",
    "\n",
    "# Path to the parent directory containing class directories\n",
    "path = \"leukemia-classification/C-NMC_Leukemia/new_training_data\"\n",
    "\n",
    "# Check if the path exists\n",
    "if not os.path.exists(path):\n",
    "    raise ValueError(\"The specified path does not exist\")\n",
    "\n",
    "# List all class directories\n",
    "class_dirs = [d for d in os.listdir(path) if os.path.isdir(os.path.join(path, d))]\n",
    "\n",
    "# Initialize a dictionary to count images per class\n",
    "image_count = {}\n",
    "\n",
    "# Iterate through each class directory and count image files\n",
    "for class_dir in class_dirs:\n",
    "    class_path = os.path.join(path, class_dir)\n",
    "    # List all files in the class directory\n",
    "    files = [f for f in os.listdir(class_path) if os.path.isfile(os.path.join(class_path, f))]\n",
    "    # Count the files (assuming all are images)\n",
    "    image_count[class_dir] = len(files)\n",
    "\n",
    "# Plotting\n",
    "plt.bar(image_count.keys(), image_count.values(), color='blue')\n",
    "plt.xlabel('Class')\n",
    "plt.ylabel('Number of Images')\n",
    "plt.title('Number of Images per Class')\n",
    "plt.show()"
   ]
  },
  {
   "cell_type": "code",
   "execution_count": 2,
   "metadata": {
    "id": "8uqJIjYpiWAo"
   },
   "outputs": [],
   "source": [
    "import cv2\n",
    "import numpy as np\n",
    "from skimage.restoration import denoise_wavelet\n",
    "from PIL import Image\n",
    "from torchvision.transforms import functional as F\n",
    "\n",
    "class NoiseReduction(object):\n",
    "    def __call__(self, img):\n",
    "        img_array = np.array(img)\n",
    "        img_denoised = denoise_wavelet(img_array, multichannel=True)\n",
    "        img_denoised = Image.fromarray((img_denoised * 255).astype(np.uint8))\n",
    "        return img_denoised"
   ]
  },
  {
   "cell_type": "code",
   "execution_count": 3,
   "metadata": {
    "colab": {
     "base_uri": "https://localhost:8080/",
     "height": 241
    },
    "id": "_1fndPy-i822",
    "outputId": "31f8190a-fb1a-4538-f85f-5350c13738c0"
   },
   "outputs": [],
   "source": [
    "import torchvision.transforms as T\n",
    "transforms = {\n",
    "    \"train\": T.Compose([\n",
    "        T.Resize((224, 224), interpolation=T.InterpolationMode.BICUBIC),\n",
    "        # T.Grayscale(num_output_channels=1),\n",
    "        T.ToTensor()\n",
    "    ]),\n",
    "    \"test\": T.Compose([\n",
    "        T.Resize((224, 224), interpolation=T.InterpolationMode.BICUBIC),\n",
    "        # T.Grayscale(num_output_channels=1),\n",
    "        T.ToTensor()\n",
    "    ])\n",
    "}\n"
   ]
  },
  {
   "cell_type": "code",
   "execution_count": 4,
   "metadata": {
    "id": "J7gadFbEi_WJ"
   },
   "outputs": [],
   "source": [
    "dataset = ImageDataset(\"leukemia-classification/C-NMC_Leukemia/new_training_data/\", transform=transforms[\"train\"])"
   ]
  },
  {
   "cell_type": "markdown",
   "metadata": {
    "id": "U7FpthO4jp0F"
   },
   "source": [
    "# Model Training"
   ]
  },
  {
   "cell_type": "code",
   "execution_count": 5,
   "metadata": {
    "colab": {
     "base_uri": "https://localhost:8080/"
    },
    "id": "H98ZRXqXjsHn",
    "outputId": "fdf6ef3c-0811-4115-e235-ab246f2046c0"
   },
   "outputs": [],
   "source": [
    "# List all available models\n",
    "# timm.list_models(\"\")"
   ]
  },
  {
   "cell_type": "code",
   "execution_count": 6,
   "metadata": {
    "id": "gZPFlrVvjsKR"
   },
   "outputs": [
    {
     "data": {
      "text/plain": [
       "device(type='cuda')"
      ]
     },
     "execution_count": 6,
     "metadata": {},
     "output_type": "execute_result"
    }
   ],
   "source": [
    "device = torch.device(\"cuda\" if torch.cuda.is_available() else \"cpu\")\n",
    "device"
   ]
  },
  {
   "cell_type": "code",
   "execution_count": 7,
   "metadata": {
    "id": "lIlGJU9pjsM7"
   },
   "outputs": [],
   "source": [
    "model_name = \"timm/vit_small_patch16_224.augreg_in21k\""
   ]
  },
  {
   "cell_type": "code",
   "execution_count": 8,
   "metadata": {
    "colab": {
     "base_uri": "https://localhost:8080/",
     "height": 49,
     "referenced_widgets": [
      "ba9ee1267c3240639f86bddb0657ecfe",
      "9ae69636206a4f528efb0e2cf93ec74f",
      "9a764bc4afbf4d869ad44f7f16892f1c",
      "3e57ac9518cb4a80b8002129866ee81e",
      "116e55726ad8441882cdb6615d07969d",
      "bc6eaa953568491aa018a789360511da",
      "48f01904edfb41e281a13fea7cceabfa",
      "f7427738293a420290d3da1efd6bc97d",
      "a43aa17b4a814d5c89b9b0e4f626a25d",
      "e0da6503a74648d781e2f5fde395f349",
      "8b33a60ccf7c47d4a023fb3a18472fe2"
     ]
    },
    "id": "6RGUsRqAjsPY",
    "outputId": "774c2667-5d4a-4b50-a163-668540045bcc"
   },
   "outputs": [],
   "source": [
    "criterion = nn.CrossEntropyLoss()"
   ]
  },
  {
   "cell_type": "code",
   "execution_count": 9,
   "metadata": {
    "id": "uQ3mfSQqj_EB"
   },
   "outputs": [],
   "source": [
    "# kf = KFold(n_splits=k_splits, shuffle=True, random_state=42)"
   ]
  },
  {
   "cell_type": "code",
   "execution_count": 10,
   "metadata": {
    "colab": {
     "base_uri": "https://localhost:8080/",
     "height": 99,
     "referenced_widgets": [
      "8f0d1e75a48a4409b70f1b28b4b167cc",
      "98109ecbf0974bca9b688a1adf3718e5",
      "b5de098199ec4e9eba84c34a301cd949",
      "e2bf73cacb23414caa2cfc5ad5dd5abb",
      "5228c5cc58324b58aa72e0a83dcf2d2d",
      "8ddced1d4dd94b999e11f4938fb1fe67",
      "3c8bf84608184336ba54229a40f31c24",
      "38b16eda455b41e7bcdcb450aab55b73",
      "0a3145f943db4a5a994aa799e76902f4",
      "76d725fa97c54d51a0d7024ca13ccfa2",
      "95e4652cfe214da09056ef10d8a6594b",
      "37b99c45f64a459e8fd0991990733abb",
      "5375e043b5484ec697a7205d7715fe3d",
      "d850c638e5b34f77a784778be557770a",
      "41381555f51c4db4879e3059cfc8bf6c",
      "f02e246453a848be9952d245b95a83ba",
      "acb2a0f3e3394f9cb0c37e28c2c90531",
      "688e0624f775493087ac84e50402f858",
      "3258027558ae4bb7bfa07bb3203459f4",
      "781490bd4af442838e79342c76b254a9",
      "04baf166129c43d2a2a94fd48fa015bc",
      "d550d8c7b17640b8872c0c1abec56ad6"
     ]
    },
    "id": "nayGsMakkIqp",
    "outputId": "94a20020-0f3b-45de-e8dc-1ca6eea93d83"
   },
   "outputs": [
    {
     "name": "stdout",
     "output_type": "stream",
     "text": [
      "Let's use 2 GPUs!\n"
     ]
    },
    {
     "name": "stderr",
     "output_type": "stream",
     "text": [
      "100%|██████████████████████████████████████████████████████████████████████████| 701/701 [06:29<00:00,  1.80it/s]\n",
      "100%|██████████████████████████████████████████████████████████████████████████| 701/701 [06:26<00:00,  1.81it/s]\n",
      "100%|██████████████████████████████████████████████████████████████████████████| 701/701 [06:22<00:00,  1.83it/s]\n",
      "100%|██████████████████████████████████████████████████████████████████████████| 701/701 [06:24<00:00,  1.82it/s]\n",
      " 43%|███████████████████████████████▊                                          | 301/701 [02:44<03:48,  1.75it/s]IOPub message rate exceeded.\n",
      "The Jupyter server will temporarily stop sending output\n",
      "to the client in order to avoid crashing it.\n",
      "To change this limit, set the config variable\n",
      "`--ServerApp.iopub_msg_rate_limit`.\n",
      "\n",
      "Current values:\n",
      "ServerApp.iopub_msg_rate_limit=1000.0 (msgs/sec)\n",
      "ServerApp.rate_limit_window=3.0 (secs)\n",
      "\n"
     ]
    }
   ],
   "source": [
    "import torch\n",
    "from torch.utils.data import DataLoader, random_split\n",
    "import timm\n",
    "from tqdm import tqdm\n",
    "import numpy as np\n",
    "from sklearn.metrics import f1_score, roc_auc_score, precision_score, recall_score\n",
    "import matplotlib.pyplot as plt\n",
    "from sklearn.metrics import precision_recall_curve, auc\n",
    "\n",
    "num_epochs = 6\n",
    "train_batch_size = 32\n",
    "eval_batch_size = 32\n",
    "num_accumulate = 4\n",
    "\n",
    "dataset_size = len(dataset)\n",
    "train_size = int(dataset_size * 0.8)  # 80% for training\n",
    "val_size = dataset_size - train_size  # 20% for validation\n",
    "\n",
    "train_dataset, val_dataset = random_split(dataset, [train_size, val_size])\n",
    "\n",
    "train_dataloader = DataLoader(train_dataset, batch_size=train_batch_size, shuffle=True)\n",
    "val_dataloader = DataLoader(val_dataset, batch_size=eval_batch_size, shuffle=False)\n",
    "\n",
    "model = timm.create_model(model_name, pretrained=True, num_classes=2)\n",
    "if torch.cuda.device_count() > 1:\n",
    "    print(f\"Let's use {torch.cuda.device_count()} GPUs!\")\n",
    "    model = torch.nn.DataParallel(model)\n",
    "model = model.to(device)\n",
    "\n",
    "optimizer = timm.optim.create_optimizer_v2(model, opt=\"AdamW\", lr=1e-3)\n",
    "optimizer = timm.optim.Lookahead(optimizer, alpha=0.5, k=6)\n",
    "scheduler = timm.scheduler.create_scheduler_v2(optimizer, num_epochs=num_epochs)[0]\n",
    "\n",
    "train_losses = []\n",
    "val_losses = []\n",
    "auc_scores = []\n",
    "precisions = []\n",
    "recalls = []\n",
    "f1_scores = []\n",
    "\n",
    "for epoch in range(num_epochs):\n",
    "    model.train()\n",
    "    train_loss_epoch = []\n",
    "    train_preds = []\n",
    "    train_targets = []\n",
    "    \n",
    "    for idx, (inputs, targets) in enumerate(tqdm(train_dataloader)):\n",
    "\n",
    "        if not (targets >= 0).all() and (targets < 2).all():\n",
    "            print(f\"Found target outside expected range: {targets}\")\n",
    "    #     outputs = model(inputs.to(device))\n",
    "    #     loss = criterion(outputs, targets.to(device))\n",
    "    #     loss.backward(retain_graph=True)\n",
    "        \n",
    "    #     if ((idx + 1) % num_accumulate == 0) or (idx + 1 == len(train_dataloader)):\n",
    "    #         optimizer.step()\n",
    "    #         scheduler.step_update(num_updates=epoch * len(train_dataloader))\n",
    "    #         optimizer.zero_grad()\n",
    "\n",
    "    #     train_loss_epoch.append(loss.item())\n",
    "    #     train_preds.extend(outputs.argmax(dim=-1).detach().cpu().numpy())\n",
    "    #     train_targets.extend(targets.cpu().numpy())\n",
    "\n",
    "    # optimizer.sync_lookahead()\n",
    "    # scheduler.step(epoch + 1)\n",
    "    \n",
    "    # # Validation loop\n",
    "    # model.eval()\n",
    "    # val_loss_epoch = []\n",
    "    # val_targets = []\n",
    "    # val_scores = []\n",
    "    \n",
    "    # with torch.no_grad():\n",
    "    #     for inputs, targets in tqdm(val_dataloader):\n",
    "    #         inputs, targets = inputs.to(device), targets.to(device)\n",
    "    #         outputs = model(inputs)\n",
    "    #         loss = criterion(outputs, targets)\n",
    "    #         val_loss_epoch.append(loss.item())\n",
    "    #         val_targets.extend(targets.cpu().numpy())\n",
    "    #         val_scores.extend(outputs.softmax(dim=-1)[:, 1].cpu().numpy())\n",
    "\n",
    "\n",
    "    # train_losses.append(np.mean(train_loss_epoch))\n",
    "    # val_losses.append(np.mean(val_loss_epoch))\n",
    "    \n",
    "    # precision, recall, _ = precision_recall_curve(val_targets, val_scores)\n",
    "    # pr_auc = auc(recall, precision)\n",
    "    # auc_scores.append(pr_auc)\n",
    "\n",
    "    # # Calculate F1 Score, Precision, and Recall\n",
    "    # binary_preds = [1 if x >= 0.5 else 0 for x in val_scores]\n",
    "    # f1 = f1_score(val_targets, binary_preds)\n",
    "    # precision = precision_score(val_targets, binary_preds)\n",
    "    # recall = recall_score(val_targets, binary_preds)\n",
    "    # f1_scores.append(f1)\n",
    "    # precisions.append(precision)\n",
    "    # recalls.append(recall)\n",
    "\n",
    "    # print(f\"Epoch {epoch + 1}/{num_epochs}, Train Loss: {np.mean(train_loss_epoch):.4f}, Val Loss: {np.mean(val_loss_epoch):.4f}, PR AUC: {pr_auc:.4f}, Precision: {precision:.4f}, Recall: {recall:.4f}, F1: {f1:.4f}\")"
   ]
  },
  {
   "cell_type": "code",
   "execution_count": 17,
   "metadata": {},
   "outputs": [
    {
     "data": {
      "image/png": "[encoded data removed]",
      "text/plain": [
       "<Figure size 1000x500 with 1 Axes>"
      ]
     },
     "metadata": {},
     "output_type": "display_data"
    },
    {
     "data": {
      "image/png": "[encoded data removed]",
      "text/plain": [
       "<Figure size 1000x500 with 1 Axes>"
      ]
     },
     "metadata": {},
     "output_type": "display_data"
    }
   ],
   "source": [
    "# Plotting the Precision-Recall curve\n",
    "plt.figure(figsize=(10, 5))\n",
    "plt.plot(recall, precision, label=f'Precision-Recall Curve (AUC = {pr_auc:.2f})')\n",
    "plt.xlabel('Recall')\n",
    "plt.ylabel('Precision')\n",
    "plt.title('Precision-Recall Curve')\n",
    "plt.legend()\n",
    "plt.savefig(\"Precision_Recall_Curve.png\")\n",
    "plt.show()\n",
    "\n",
    "# Plot training and validation losses\n",
    "plt.figure(figsize=(10, 5))\n",
    "plt.plot(train_losses, label='Train Loss')\n",
    "plt.plot(val_losses, label='Validation Loss')\n",
    "plt.title('Training and Validation Loss')\n",
    "plt.xlabel('Epochs')\n",
    "plt.ylabel('Loss')\n",
    "plt.legend()\n",
    "plt.savefig(\"Training_and_Validation_Loss.png\")\n",
    "plt.show()"
   ]
  },
  {
   "cell_type": "code",
   "execution_count": 18,
   "metadata": {
    "id": "YR-oBpXNkIsc"
   },
   "outputs": [],
   "source": [
    "torch.save(model, f\"vit_6_epoch.pt\")"
   ]
  },
  {
   "cell_type": "code",
   "execution_count": 32,
   "metadata": {},
   "outputs": [],
   "source": [
    "import os\n",
    "import pandas as pd\n",
    "from PIL import Image\n",
    "from torch.utils.data import Dataset\n",
    "\n",
    "class ImageDataset(Dataset):\n",
    "    def __init__(self, csv_file, img_dir, transform=None):\n",
    "        \"\"\"\n",
    "        Args:\n",
    "            csv_file (string): Path to the CSV file with annotations.\n",
    "            img_dir (string): Directory with all the images.\n",
    "            transform (callable, optional): Optional transform to be applied on a sample.\n",
    "        \"\"\"\n",
    "        self.img_labels = pd.read_csv(csv_file)\n",
    "        self.img_dir = img_dir\n",
    "        self.transform = transform\n",
    "\n",
    "    def __len__(self):\n",
    "        return len(self.img_labels)\n",
    "\n",
    "    def __getitem__(self, idx):\n",
    "        original_name = self.img_labels.iloc[idx]['new_names']\n",
    "        # Change the file extension from .bmp to .png\n",
    "        img_name = os.path.join(self.img_dir, original_name.replace('.bmp', '.png'))\n",
    "        image = Image.open(img_name).convert('RGB')\n",
    "        label = self.img_labels.iloc[idx]['labels']\n",
    "\n",
    "        if self.transform:\n",
    "            image = self.transform(image)\n",
    "\n",
    "        return image, label"
   ]
  },
  {
   "cell_type": "code",
   "execution_count": 33,
   "metadata": {},
   "outputs": [],
   "source": [
    "transform = T.Compose([\n",
    "    T.Resize((224, 224), interpolation=T.InterpolationMode.BICUBIC),  # Resize to the input size expected by your model\n",
    "    T.ToTensor(),\n",
    "])"
   ]
  },
  {
   "cell_type": "code",
   "execution_count": 34,
   "metadata": {},
   "outputs": [],
   "source": [
    "dataset_valid = ImageDataset(csv_file='leukemia-classification/C-NMC_Leukemia/validation_data/C-NMC_test_prelim_phase_data_labels.csv', img_dir='leukemia-classification/C-NMC_Leukemia/validation_data/C-NMC_test_prelim_phase_data', transform=transform)\n",
    "\n",
    "val_dataloader = DataLoader(dataset_valid, batch_size=1, shuffle=False)  # No need to batch if only one image"
   ]
  },
  {
   "cell_type": "code",
   "execution_count": 1,
   "metadata": {},
   "outputs": [
    {
     "ename": "NameError",
     "evalue": "name 'model' is not defined",
     "output_type": "error",
     "traceback": [
      "\u001b[0;31m---------------------------------------------------------------------------\u001b[0m",
      "\u001b[0;31mNameError\u001b[0m                                 Traceback (most recent call last)",
      "Cell \u001b[0;32mIn[1], line 1\u001b[0m\n\u001b[0;32m----> 1\u001b[0m \u001b[43mmodel\u001b[49m\u001b[38;5;241m.\u001b[39meval()\n\u001b[1;32m      2\u001b[0m val_preds \u001b[38;5;241m=\u001b[39m []\n\u001b[1;32m      3\u001b[0m actual_labels \u001b[38;5;241m=\u001b[39m []\n",
      "\u001b[0;31mNameError\u001b[0m: name 'model' is not defined"
     ]
    }
   ],
   "source": [
    "model.eval()\n",
    "val_preds = []\n",
    "actual_labels = []\n",
    "\n",
    "with torch.no_grad():\n",
    "    for data, labels in tqdm(val_dataloader):\n",
    "        data = data.to(device)\n",
    "        outputs = model(data)\n",
    "        \n",
    "        # Collect predictions using tolist() for direct list appending\n",
    "        val_preds += outputs.argmax(dim=-1).detach().cpu().tolist()\n",
    "        actual_labels.extend(labels.cpu().numpy())\n",
    "\n",
    "# Calculate and print metrics\n",
    "f1 = f1_score(actual_labels, val_preds, average='macro')\n",
    "roc_auc = roc_auc_score(actual_labels, val_preds, multi_class='ovr')\n",
    "precision = precision_score(actual_labels, val_preds, average='macro')\n",
    "recall = recall_score(actual_labels, val_preds, average='macro')\n",
    "\n",
    "print(f\"F1 Score: {f1:.4f}\")\n",
    "print(f\"ROC AUC Score: {roc_auc:.4f}\")\n",
    "print(f\"Precision: {precision:.4f}\")\n",
    "print(f\"Recall: {recall:.4f}\")"
   ]
  },
  {
   "cell_type": "code",
   "execution_count": null,
   "metadata": {},
   "outputs": [],
   "source": [
    "    with torch.no_grad():\n",
    "        for inputs, targets in tqdm(val_dataloader):\n",
    "            inputs, targets = inputs.to(device), targets.to(device)\n",
    "            outputs = model(inputs)\n",
    "            loss = criterion(outputs, targets)\n",
    "            val_loss_epoch.append(loss.item())\n",
    "            val_targets.extend(targets.cpu().numpy())\n",
    "            val_scores.extend(outputs.softmax(dim=-1)[:, 1].cpu().numpy())"
   ]
  },
  {
   "cell_type": "code",
   "execution_count": null,
   "metadata": {},
   "outputs": [],
   "source": [
    "val_preds += outputs.argmax(-1).detach().cpu().tolist()"
   ]
  },
  {
   "cell_type": "code",
   "execution_count": null,
   "metadata": {},
   "outputs": [],
   "source": []
  },
  {
   "cell_type": "code",
   "execution_count": null,
   "metadata": {},
   "outputs": [],
   "source": []
  },
  {
   "cell_type": "code",
   "execution_count": null,
   "metadata": {},
   "outputs": [],
   "source": []
  },
  {
   "cell_type": "code",
   "execution_count": null,
   "metadata": {},
   "outputs": [],
   "source": []
  },
  {
   "cell_type": "code",
   "execution_count": null,
   "metadata": {},
   "outputs": [],
   "source": []
  },
  {
   "cell_type": "code",
   "execution_count": null,
   "metadata": {},
   "outputs": [],
   "source": []
  },
  {
   "cell_type": "code",
   "execution_count": 14,
   "metadata": {},
   "outputs": [
    {
     "data": {
      "text/plain": [
       "0.9671237632463169"
      ]
     },
     "execution_count": 14,
     "metadata": {},
     "output_type": "execute_result"
    }
   ],
   "source": [
    "# Given values\n",
    "precision = 0.9562\n",
    "recall = 0.9783\n",
    "\n",
    "# F1 score calculation\n",
    "f1_score = 2 * (precision * recall) / (precision + recall)\n",
    "f1_score\n"
   ]
  },
  {
   "cell_type": "code",
   "execution_count": null,
   "metadata": {},
   "outputs": [],
   "source": []
  }
 ],
 "metadata": {
  "colab": {
   "authorship_tag": "ABX9TyPuLV+vuvEG2weY/1CFh6/1",
   "include_colab_link": true,
   "provenance": []
  },
  "kernelspec": {
   "display_name": "Python 3 (ipykernel)",
   "language": "python",
   "name": "python3"
  },
  "language_info": {
   "codemirror_mode": {
    "name": "ipython",
    "version": 3
   },
   "file_extension": ".py",
   "mimetype": "text/x-python",
   "name": "python",
   "nbconvert_exporter": "python",
   "pygments_lexer": "ipython3",
   "version": "3.11.2"
  },
  "widgets": {
   "application/vnd.jupyter.widget-state+json": {
    "04baf166129c43d2a2a94fd48fa015bc": {
     "model_module": "@jupyter-widgets/base",
     "model_module_version": "1.2.0",
     "model_name": "LayoutModel",
     "state": {
      "_model_module": "@jupyter-widgets/base",
      "_model_module_version": "1.2.0",
      "_model_name": "LayoutModel",
      "_view_count": null,
      "_view_module": "@jupyter-widgets/base",
      "_view_module_version": "1.2.0",
      "_view_name": "LayoutView",
      "align_content": null,
      "align_items": null,
      "align_self": null,
      "border": null,
      "bottom": null,
      "display": null,
      "flex": null,
      "flex_flow": null,
      "grid_area": null,
      "grid_auto_columns": null,
      "grid_auto_flow": null,
      "grid_auto_rows": null,
      "grid_column": null,
      "grid_gap": null,
      "grid_row": null,
      "grid_template_areas": null,
      "grid_template_columns": null,
      "grid_template_rows": null,
      "height": null,
      "justify_content": null,
      "justify_items": null,
      "left": null,
      "margin": null,
      "max_height": null,
      "max_width": null,
      "min_height": null,
      "min_width": null,
      "object_fit": null,
      "object_position": null,
      "order": null,
      "overflow": null,
      "overflow_x": null,
      "overflow_y": null,
      "padding": null,
      "right": null,
      "top": null,
      "visibility": null,
      "width": null
     }
    },
    "0a3145f943db4a5a994aa799e76902f4": {
     "model_module": "@jupyter-widgets/controls",
     "model_module_version": "1.5.0",
     "model_name": "ProgressStyleModel",
     "state": {
      "_model_module": "@jupyter-widgets/controls",
      "_model_module_version": "1.5.0",
      "_model_name": "ProgressStyleModel",
      "_view_count": null,
      "_view_module": "@jupyter-widgets/base",
      "_view_module_version": "1.2.0",
      "_view_name": "StyleView",
      "bar_color": null,
      "description_width": ""
     }
    },
    "116e55726ad8441882cdb6615d07969d": {
     "model_module": "@jupyter-widgets/base",
     "model_module_version": "1.2.0",
     "model_name": "LayoutModel",
     "state": {
      "_model_module": "@jupyter-widgets/base",
      "_model_module_version": "1.2.0",
      "_model_name": "LayoutModel",
      "_view_count": null,
      "_view_module": "@jupyter-widgets/base",
      "_view_module_version": "1.2.0",
      "_view_name": "LayoutView",
      "align_content": null,
      "align_items": null,
      "align_self": null,
      "border": null,
      "bottom": null,
      "display": null,
      "flex": null,
      "flex_flow": null,
      "grid_area": null,
      "grid_auto_columns": null,
      "grid_auto_flow": null,
      "grid_auto_rows": null,
      "grid_column": null,
      "grid_gap": null,
      "grid_row": null,
      "grid_template_areas": null,
      "grid_template_columns": null,
      "grid_template_rows": null,
      "height": null,
      "justify_content": null,
      "justify_items": null,
      "left": null,
      "margin": null,
      "max_height": null,
      "max_width": null,
      "min_height": null,
      "min_width": null,
      "object_fit": null,
      "object_position": null,
      "order": null,
      "overflow": null,
      "overflow_x": null,
      "overflow_y": null,
      "padding": null,
      "right": null,
      "top": null,
      "visibility": null,
      "width": null
     }
    },
    "3258027558ae4bb7bfa07bb3203459f4": {
     "model_module": "@jupyter-widgets/base",
     "model_module_version": "1.2.0",
     "model_name": "LayoutModel",
     "state": {
      "_model_module": "@jupyter-widgets/base",
      "_model_module_version": "1.2.0",
      "_model_name": "LayoutModel",
      "_view_count": null,
      "_view_module": "@jupyter-widgets/base",
      "_view_module_version": "1.2.0",
      "_view_name": "LayoutView",
      "align_content": null,
      "align_items": null,
      "align_self": null,
      "border": null,
      "bottom": null,
      "display": null,
      "flex": null,
      "flex_flow": null,
      "grid_area": null,
      "grid_auto_columns": null,
      "grid_auto_flow": null,
      "grid_auto_rows": null,
      "grid_column": null,
      "grid_gap": null,
      "grid_row": null,
      "grid_template_areas": null,
      "grid_template_columns": null,
      "grid_template_rows": null,
      "height": null,
      "justify_content": null,
      "justify_items": null,
      "left": null,
      "margin": null,
      "max_height": null,
      "max_width": null,
      "min_height": null,
      "min_width": null,
      "object_fit": null,
      "object_position": null,
      "order": null,
      "overflow": null,
      "overflow_x": null,
      "overflow_y": null,
      "padding": null,
      "right": null,
      "top": null,
      "visibility": null,
      "width": null
     }
    },
    "37b99c45f64a459e8fd0991990733abb": {
     "model_module": "@jupyter-widgets/controls",
     "model_module_version": "1.5.0",
     "model_name": "HBoxModel",
     "state": {
      "_dom_classes": [],
      "_model_module": "@jupyter-widgets/controls",
      "_model_module_version": "1.5.0",
      "_model_name": "HBoxModel",
      "_view_count": null,
      "_view_module": "@jupyter-widgets/controls",
      "_view_module_version": "1.5.0",
      "_view_name": "HBoxView",
      "box_style": "",
      "children": [
       "IPY_MODEL_5375e043b5484ec697a7205d7715fe3d",
       "IPY_MODEL_d850c638e5b34f77a784778be557770a",
       "IPY_MODEL_41381555f51c4db4879e3059cfc8bf6c"
      ],
      "layout": "IPY_MODEL_f02e246453a848be9952d245b95a83ba"
     }
    },
    "38b16eda455b41e7bcdcb450aab55b73": {
     "model_module": "@jupyter-widgets/base",
     "model_module_version": "1.2.0",
     "model_name": "LayoutModel",
     "state": {
      "_model_module": "@jupyter-widgets/base",
      "_model_module_version": "1.2.0",
      "_model_name": "LayoutModel",
      "_view_count": null,
      "_view_module": "@jupyter-widgets/base",
      "_view_module_version": "1.2.0",
      "_view_name": "LayoutView",
      "align_content": null,
      "align_items": null,
      "align_self": null,
      "border": null,
      "bottom": null,
      "display": null,
      "flex": null,
      "flex_flow": null,
      "grid_area": null,
      "grid_auto_columns": null,
      "grid_auto_flow": null,
      "grid_auto_rows": null,
      "grid_column": null,
      "grid_gap": null,
      "grid_row": null,
      "grid_template_areas": null,
      "grid_template_columns": null,
      "grid_template_rows": null,
      "height": null,
      "justify_content": null,
      "justify_items": null,
      "left": null,
      "margin": null,
      "max_height": null,
      "max_width": null,
      "min_height": null,
      "min_width": null,
      "object_fit": null,
      "object_position": null,
      "order": null,
      "overflow": null,
      "overflow_x": null,
      "overflow_y": null,
      "padding": null,
      "right": null,
      "top": null,
      "visibility": null,
      "width": null
     }
    },
    "3c8bf84608184336ba54229a40f31c24": {
     "model_module": "@jupyter-widgets/controls",
     "model_module_version": "1.5.0",
     "model_name": "DescriptionStyleModel",
     "state": {
      "_model_module": "@jupyter-widgets/controls",
      "_model_module_version": "1.5.0",
      "_model_name": "DescriptionStyleModel",
      "_view_count": null,
      "_view_module": "@jupyter-widgets/base",
      "_view_module_version": "1.2.0",
      "_view_name": "StyleView",
      "description_width": ""
     }
    },
    "3e57ac9518cb4a80b8002129866ee81e": {
     "model_module": "@jupyter-widgets/controls",
     "model_module_version": "1.5.0",
     "model_name": "HTMLModel",
     "state": {
      "_dom_classes": [],
      "_model_module": "@jupyter-widgets/controls",
      "_model_module_version": "1.5.0",
      "_model_name": "HTMLModel",
      "_view_count": null,
      "_view_module": "@jupyter-widgets/controls",
      "_view_module_version": "1.5.0",
      "_view_name": "HTMLView",
      "description": "",
      "description_tooltip": null,
      "layout": "IPY_MODEL_e0da6503a74648d781e2f5fde395f349",
      "placeholder": "​",
      "style": "IPY_MODEL_8b33a60ccf7c47d4a023fb3a18472fe2",
      "value": " 6.77k/6.77k [00:00&lt;00:00, 281kB/s]"
     }
    },
    "41381555f51c4db4879e3059cfc8bf6c": {
     "model_module": "@jupyter-widgets/controls",
     "model_module_version": "1.5.0",
     "model_name": "HTMLModel",
     "state": {
      "_dom_classes": [],
      "_model_module": "@jupyter-widgets/controls",
      "_model_module_version": "1.5.0",
      "_model_name": "HTMLModel",
      "_view_count": null,
      "_view_module": "@jupyter-widgets/controls",
      "_view_module_version": "1.5.0",
      "_view_name": "HTMLView",
      "description": "",
      "description_tooltip": null,
      "layout": "IPY_MODEL_04baf166129c43d2a2a94fd48fa015bc",
      "placeholder": "​",
      "style": "IPY_MODEL_d550d8c7b17640b8872c0c1abec56ad6",
      "value": " 0/223 [00:00&lt;?, ?it/s]"
     }
    },
    "48f01904edfb41e281a13fea7cceabfa": {
     "model_module": "@jupyter-widgets/controls",
     "model_module_version": "1.5.0",
     "model_name": "DescriptionStyleModel",
     "state": {
      "_model_module": "@jupyter-widgets/controls",
      "_model_module_version": "1.5.0",
      "_model_name": "DescriptionStyleModel",
      "_view_count": null,
      "_view_module": "@jupyter-widgets/base",
      "_view_module_version": "1.2.0",
      "_view_name": "StyleView",
      "description_width": ""
     }
    },
    "5228c5cc58324b58aa72e0a83dcf2d2d": {
     "model_module": "@jupyter-widgets/base",
     "model_module_version": "1.2.0",
     "model_name": "LayoutModel",
     "state": {
      "_model_module": "@jupyter-widgets/base",
      "_model_module_version": "1.2.0",
      "_model_name": "LayoutModel",
      "_view_count": null,
      "_view_module": "@jupyter-widgets/base",
      "_view_module_version": "1.2.0",
      "_view_name": "LayoutView",
      "align_content": null,
      "align_items": null,
      "align_self": null,
      "border": null,
      "bottom": null,
      "display": null,
      "flex": null,
      "flex_flow": null,
      "grid_area": null,
      "grid_auto_columns": null,
      "grid_auto_flow": null,
      "grid_auto_rows": null,
      "grid_column": null,
      "grid_gap": null,
      "grid_row": null,
      "grid_template_areas": null,
      "grid_template_columns": null,
      "grid_template_rows": null,
      "height": null,
      "justify_content": null,
      "justify_items": null,
      "left": null,
      "margin": null,
      "max_height": null,
      "max_width": null,
      "min_height": null,
      "min_width": null,
      "object_fit": null,
      "object_position": null,
      "order": null,
      "overflow": null,
      "overflow_x": null,
      "overflow_y": null,
      "padding": null,
      "right": null,
      "top": null,
      "visibility": null,
      "width": null
     }
    },
    "5375e043b5484ec697a7205d7715fe3d": {
     "model_module": "@jupyter-widgets/controls",
     "model_module_version": "1.5.0",
     "model_name": "HTMLModel",
     "state": {
      "_dom_classes": [],
      "_model_module": "@jupyter-widgets/controls",
      "_model_module_version": "1.5.0",
      "_model_name": "HTMLModel",
      "_view_count": null,
      "_view_module": "@jupyter-widgets/controls",
      "_view_module_version": "1.5.0",
      "_view_name": "HTMLView",
      "description": "",
      "description_tooltip": null,
      "layout": "IPY_MODEL_acb2a0f3e3394f9cb0c37e28c2c90531",
      "placeholder": "​",
      "style": "IPY_MODEL_688e0624f775493087ac84e50402f858",
      "value": "  0%"
     }
    },
    "688e0624f775493087ac84e50402f858": {
     "model_module": "@jupyter-widgets/controls",
     "model_module_version": "1.5.0",
     "model_name": "DescriptionStyleModel",
     "state": {
      "_model_module": "@jupyter-widgets/controls",
      "_model_module_version": "1.5.0",
      "_model_name": "DescriptionStyleModel",
      "_view_count": null,
      "_view_module": "@jupyter-widgets/base",
      "_view_module_version": "1.2.0",
      "_view_name": "StyleView",
      "description_width": ""
     }
    },
    "76d725fa97c54d51a0d7024ca13ccfa2": {
     "model_module": "@jupyter-widgets/base",
     "model_module_version": "1.2.0",
     "model_name": "LayoutModel",
     "state": {
      "_model_module": "@jupyter-widgets/base",
      "_model_module_version": "1.2.0",
      "_model_name": "LayoutModel",
      "_view_count": null,
      "_view_module": "@jupyter-widgets/base",
      "_view_module_version": "1.2.0",
      "_view_name": "LayoutView",
      "align_content": null,
      "align_items": null,
      "align_self": null,
      "border": null,
      "bottom": null,
      "display": null,
      "flex": null,
      "flex_flow": null,
      "grid_area": null,
      "grid_auto_columns": null,
      "grid_auto_flow": null,
      "grid_auto_rows": null,
      "grid_column": null,
      "grid_gap": null,
      "grid_row": null,
      "grid_template_areas": null,
      "grid_template_columns": null,
      "grid_template_rows": null,
      "height": null,
      "justify_content": null,
      "justify_items": null,
      "left": null,
      "margin": null,
      "max_height": null,
      "max_width": null,
      "min_height": null,
      "min_width": null,
      "object_fit": null,
      "object_position": null,
      "order": null,
      "overflow": null,
      "overflow_x": null,
      "overflow_y": null,
      "padding": null,
      "right": null,
      "top": null,
      "visibility": null,
      "width": null
     }
    },
    "781490bd4af442838e79342c76b254a9": {
     "model_module": "@jupyter-widgets/controls",
     "model_module_version": "1.5.0",
     "model_name": "ProgressStyleModel",
     "state": {
      "_model_module": "@jupyter-widgets/controls",
      "_model_module_version": "1.5.0",
      "_model_name": "ProgressStyleModel",
      "_view_count": null,
      "_view_module": "@jupyter-widgets/base",
      "_view_module_version": "1.2.0",
      "_view_name": "StyleView",
      "bar_color": null,
      "description_width": ""
     }
    },
    "8b33a60ccf7c47d4a023fb3a18472fe2": {
     "model_module": "@jupyter-widgets/controls",
     "model_module_version": "1.5.0",
     "model_name": "DescriptionStyleModel",
     "state": {
      "_model_module": "@jupyter-widgets/controls",
      "_model_module_version": "1.5.0",
      "_model_name": "DescriptionStyleModel",
      "_view_count": null,
      "_view_module": "@jupyter-widgets/base",
      "_view_module_version": "1.2.0",
      "_view_name": "StyleView",
      "description_width": ""
     }
    },
    "8ddced1d4dd94b999e11f4938fb1fe67": {
     "model_module": "@jupyter-widgets/base",
     "model_module_version": "1.2.0",
     "model_name": "LayoutModel",
     "state": {
      "_model_module": "@jupyter-widgets/base",
      "_model_module_version": "1.2.0",
      "_model_name": "LayoutModel",
      "_view_count": null,
      "_view_module": "@jupyter-widgets/base",
      "_view_module_version": "1.2.0",
      "_view_name": "LayoutView",
      "align_content": null,
      "align_items": null,
      "align_self": null,
      "border": null,
      "bottom": null,
      "display": null,
      "flex": null,
      "flex_flow": null,
      "grid_area": null,
      "grid_auto_columns": null,
      "grid_auto_flow": null,
      "grid_auto_rows": null,
      "grid_column": null,
      "grid_gap": null,
      "grid_row": null,
      "grid_template_areas": null,
      "grid_template_columns": null,
      "grid_template_rows": null,
      "height": null,
      "justify_content": null,
      "justify_items": null,
      "left": null,
      "margin": null,
      "max_height": null,
      "max_width": null,
      "min_height": null,
      "min_width": null,
      "object_fit": null,
      "object_position": null,
      "order": null,
      "overflow": null,
      "overflow_x": null,
      "overflow_y": null,
      "padding": null,
      "right": null,
      "top": null,
      "visibility": null,
      "width": null
     }
    },
    "8f0d1e75a48a4409b70f1b28b4b167cc": {
     "model_module": "@jupyter-widgets/controls",
     "model_module_version": "1.5.0",
     "model_name": "HBoxModel",
     "state": {
      "_dom_classes": [],
      "_model_module": "@jupyter-widgets/controls",
      "_model_module_version": "1.5.0",
      "_model_name": "HBoxModel",
      "_view_count": null,
      "_view_module": "@jupyter-widgets/controls",
      "_view_module_version": "1.5.0",
      "_view_name": "HBoxView",
      "box_style": "",
      "children": [
       "IPY_MODEL_98109ecbf0974bca9b688a1adf3718e5",
       "IPY_MODEL_b5de098199ec4e9eba84c34a301cd949",
       "IPY_MODEL_e2bf73cacb23414caa2cfc5ad5dd5abb"
      ],
      "layout": "IPY_MODEL_5228c5cc58324b58aa72e0a83dcf2d2d"
     }
    },
    "95e4652cfe214da09056ef10d8a6594b": {
     "model_module": "@jupyter-widgets/controls",
     "model_module_version": "1.5.0",
     "model_name": "DescriptionStyleModel",
     "state": {
      "_model_module": "@jupyter-widgets/controls",
      "_model_module_version": "1.5.0",
      "_model_name": "DescriptionStyleModel",
      "_view_count": null,
      "_view_module": "@jupyter-widgets/base",
      "_view_module_version": "1.2.0",
      "_view_name": "StyleView",
      "description_width": ""
     }
    },
    "98109ecbf0974bca9b688a1adf3718e5": {
     "model_module": "@jupyter-widgets/controls",
     "model_module_version": "1.5.0",
     "model_name": "HTMLModel",
     "state": {
      "_dom_classes": [],
      "_model_module": "@jupyter-widgets/controls",
      "_model_module_version": "1.5.0",
      "_model_name": "HTMLModel",
      "_view_count": null,
      "_view_module": "@jupyter-widgets/controls",
      "_view_module_version": "1.5.0",
      "_view_name": "HTMLView",
      "description": "",
      "description_tooltip": null,
      "layout": "IPY_MODEL_8ddced1d4dd94b999e11f4938fb1fe67",
      "placeholder": "​",
      "style": "IPY_MODEL_3c8bf84608184336ba54229a40f31c24",
      "value": "model.safetensors: 100%"
     }
    },
    "9a764bc4afbf4d869ad44f7f16892f1c": {
     "model_module": "@jupyter-widgets/controls",
     "model_module_version": "1.5.0",
     "model_name": "FloatProgressModel",
     "state": {
      "_dom_classes": [],
      "_model_module": "@jupyter-widgets/controls",
      "_model_module_version": "1.5.0",
      "_model_name": "FloatProgressModel",
      "_view_count": null,
      "_view_module": "@jupyter-widgets/controls",
      "_view_module_version": "1.5.0",
      "_view_name": "ProgressView",
      "bar_style": "success",
      "description": "",
      "description_tooltip": null,
      "layout": "IPY_MODEL_f7427738293a420290d3da1efd6bc97d",
      "max": 6771,
      "min": 0,
      "orientation": "horizontal",
      "style": "IPY_MODEL_a43aa17b4a814d5c89b9b0e4f626a25d",
      "value": 6771
     }
    },
    "9ae69636206a4f528efb0e2cf93ec74f": {
     "model_module": "@jupyter-widgets/controls",
     "model_module_version": "1.5.0",
     "model_name": "HTMLModel",
     "state": {
      "_dom_classes": [],
      "_model_module": "@jupyter-widgets/controls",
      "_model_module_version": "1.5.0",
      "_model_name": "HTMLModel",
      "_view_count": null,
      "_view_module": "@jupyter-widgets/controls",
      "_view_module_version": "1.5.0",
      "_view_name": "HTMLView",
      "description": "",
      "description_tooltip": null,
      "layout": "IPY_MODEL_bc6eaa953568491aa018a789360511da",
      "placeholder": "​",
      "style": "IPY_MODEL_48f01904edfb41e281a13fea7cceabfa",
      "value": "Downloading builder script: 100%"
     }
    },
    "a43aa17b4a814d5c89b9b0e4f626a25d": {
     "model_module": "@jupyter-widgets/controls",
     "model_module_version": "1.5.0",
     "model_name": "ProgressStyleModel",
     "state": {
      "_model_module": "@jupyter-widgets/controls",
      "_model_module_version": "1.5.0",
      "_model_name": "ProgressStyleModel",
      "_view_count": null,
      "_view_module": "@jupyter-widgets/base",
      "_view_module_version": "1.2.0",
      "_view_name": "StyleView",
      "bar_color": null,
      "description_width": ""
     }
    },
    "acb2a0f3e3394f9cb0c37e28c2c90531": {
     "model_module": "@jupyter-widgets/base",
     "model_module_version": "1.2.0",
     "model_name": "LayoutModel",
     "state": {
      "_model_module": "@jupyter-widgets/base",
      "_model_module_version": "1.2.0",
      "_model_name": "LayoutModel",
      "_view_count": null,
      "_view_module": "@jupyter-widgets/base",
      "_view_module_version": "1.2.0",
      "_view_name": "LayoutView",
      "align_content": null,
      "align_items": null,
      "align_self": null,
      "border": null,
      "bottom": null,
      "display": null,
      "flex": null,
      "flex_flow": null,
      "grid_area": null,
      "grid_auto_columns": null,
      "grid_auto_flow": null,
      "grid_auto_rows": null,
      "grid_column": null,
      "grid_gap": null,
      "grid_row": null,
      "grid_template_areas": null,
      "grid_template_columns": null,
      "grid_template_rows": null,
      "height": null,
      "justify_content": null,
      "justify_items": null,
      "left": null,
      "margin": null,
      "max_height": null,
      "max_width": null,
      "min_height": null,
      "min_width": null,
      "object_fit": null,
      "object_position": null,
      "order": null,
      "overflow": null,
      "overflow_x": null,
      "overflow_y": null,
      "padding": null,
      "right": null,
      "top": null,
      "visibility": null,
      "width": null
     }
    },
    "b5de098199ec4e9eba84c34a301cd949": {
     "model_module": "@jupyter-widgets/controls",
     "model_module_version": "1.5.0",
     "model_name": "FloatProgressModel",
     "state": {
      "_dom_classes": [],
      "_model_module": "@jupyter-widgets/controls",
      "_model_module_version": "1.5.0",
      "_model_name": "FloatProgressModel",
      "_view_count": null,
      "_view_module": "@jupyter-widgets/controls",
      "_view_module_version": "1.5.0",
      "_view_name": "ProgressView",
      "bar_style": "success",
      "description": "",
      "description_tooltip": null,
      "layout": "IPY_MODEL_38b16eda455b41e7bcdcb450aab55b73",
      "max": 848062988,
      "min": 0,
      "orientation": "horizontal",
      "style": "IPY_MODEL_0a3145f943db4a5a994aa799e76902f4",
      "value": 848062988
     }
    },
    "ba9ee1267c3240639f86bddb0657ecfe": {
     "model_module": "@jupyter-widgets/controls",
     "model_module_version": "1.5.0",
     "model_name": "HBoxModel",
     "state": {
      "_dom_classes": [],
      "_model_module": "@jupyter-widgets/controls",
      "_model_module_version": "1.5.0",
      "_model_name": "HBoxModel",
      "_view_count": null,
      "_view_module": "@jupyter-widgets/controls",
      "_view_module_version": "1.5.0",
      "_view_name": "HBoxView",
      "box_style": "",
      "children": [
       "IPY_MODEL_9ae69636206a4f528efb0e2cf93ec74f",
       "IPY_MODEL_9a764bc4afbf4d869ad44f7f16892f1c",
       "IPY_MODEL_3e57ac9518cb4a80b8002129866ee81e"
      ],
      "layout": "IPY_MODEL_116e55726ad8441882cdb6615d07969d"
     }
    },
    "bc6eaa953568491aa018a789360511da": {
     "model_module": "@jupyter-widgets/base",
     "model_module_version": "1.2.0",
     "model_name": "LayoutModel",
     "state": {
      "_model_module": "@jupyter-widgets/base",
      "_model_module_version": "1.2.0",
      "_model_name": "LayoutModel",
      "_view_count": null,
      "_view_module": "@jupyter-widgets/base",
      "_view_module_version": "1.2.0",
      "_view_name": "LayoutView",
      "align_content": null,
      "align_items": null,
      "align_self": null,
      "border": null,
      "bottom": null,
      "display": null,
      "flex": null,
      "flex_flow": null,
      "grid_area": null,
      "grid_auto_columns": null,
      "grid_auto_flow": null,
      "grid_auto_rows": null,
      "grid_column": null,
      "grid_gap": null,
      "grid_row": null,
      "grid_template_areas": null,
      "grid_template_columns": null,
      "grid_template_rows": null,
      "height": null,
      "justify_content": null,
      "justify_items": null,
      "left": null,
      "margin": null,
      "max_height": null,
      "max_width": null,
      "min_height": null,
      "min_width": null,
      "object_fit": null,
      "object_position": null,
      "order": null,
      "overflow": null,
      "overflow_x": null,
      "overflow_y": null,
      "padding": null,
      "right": null,
      "top": null,
      "visibility": null,
      "width": null
     }
    },
    "d550d8c7b17640b8872c0c1abec56ad6": {
     "model_module": "@jupyter-widgets/controls",
     "model_module_version": "1.5.0",
     "model_name": "DescriptionStyleModel",
     "state": {
      "_model_module": "@jupyter-widgets/controls",
      "_model_module_version": "1.5.0",
      "_model_name": "DescriptionStyleModel",
      "_view_count": null,
      "_view_module": "@jupyter-widgets/base",
      "_view_module_version": "1.2.0",
      "_view_name": "StyleView",
      "description_width": ""
     }
    },
    "d850c638e5b34f77a784778be557770a": {
     "model_module": "@jupyter-widgets/controls",
     "model_module_version": "1.5.0",
     "model_name": "FloatProgressModel",
     "state": {
      "_dom_classes": [],
      "_model_module": "@jupyter-widgets/controls",
      "_model_module_version": "1.5.0",
      "_model_name": "FloatProgressModel",
      "_view_count": null,
      "_view_module": "@jupyter-widgets/controls",
      "_view_module_version": "1.5.0",
      "_view_name": "ProgressView",
      "bar_style": "",
      "description": "",
      "description_tooltip": null,
      "layout": "IPY_MODEL_3258027558ae4bb7bfa07bb3203459f4",
      "max": 223,
      "min": 0,
      "orientation": "horizontal",
      "style": "IPY_MODEL_781490bd4af442838e79342c76b254a9",
      "value": 0
     }
    },
    "e0da6503a74648d781e2f5fde395f349": {
     "model_module": "@jupyter-widgets/base",
     "model_module_version": "1.2.0",
     "model_name": "LayoutModel",
     "state": {
      "_model_module": "@jupyter-widgets/base",
      "_model_module_version": "1.2.0",
      "_model_name": "LayoutModel",
      "_view_count": null,
      "_view_module": "@jupyter-widgets/base",
      "_view_module_version": "1.2.0",
      "_view_name": "LayoutView",
      "align_content": null,
      "align_items": null,
      "align_self": null,
      "border": null,
      "bottom": null,
      "display": null,
      "flex": null,
      "flex_flow": null,
      "grid_area": null,
      "grid_auto_columns": null,
      "grid_auto_flow": null,
      "grid_auto_rows": null,
      "grid_column": null,
      "grid_gap": null,
      "grid_row": null,
      "grid_template_areas": null,
      "grid_template_columns": null,
      "grid_template_rows": null,
      "height": null,
      "justify_content": null,
      "justify_items": null,
      "left": null,
      "margin": null,
      "max_height": null,
      "max_width": null,
      "min_height": null,
      "min_width": null,
      "object_fit": null,
      "object_position": null,
      "order": null,
      "overflow": null,
      "overflow_x": null,
      "overflow_y": null,
      "padding": null,
      "right": null,
      "top": null,
      "visibility": null,
      "width": null
     }
    },
    "e2bf73cacb23414caa2cfc5ad5dd5abb": {
     "model_module": "@jupyter-widgets/controls",
     "model_module_version": "1.5.0",
     "model_name": "HTMLModel",
     "state": {
      "_dom_classes": [],
      "_model_module": "@jupyter-widgets/controls",
      "_model_module_version": "1.5.0",
      "_model_name": "HTMLModel",
      "_view_count": null,
      "_view_module": "@jupyter-widgets/controls",
      "_view_module_version": "1.5.0",
      "_view_name": "HTMLView",
      "description": "",
      "description_tooltip": null,
      "layout": "IPY_MODEL_76d725fa97c54d51a0d7024ca13ccfa2",
      "placeholder": "​",
      "style": "IPY_MODEL_95e4652cfe214da09056ef10d8a6594b",
      "value": " 848M/848M [00:19&lt;00:00, 58.2MB/s]"
     }
    },
    "f02e246453a848be9952d245b95a83ba": {
     "model_module": "@jupyter-widgets/base",
     "model_module_version": "1.2.0",
     "model_name": "LayoutModel",
     "state": {
      "_model_module": "@jupyter-widgets/base",
      "_model_module_version": "1.2.0",
      "_model_name": "LayoutModel",
      "_view_count": null,
      "_view_module": "@jupyter-widgets/base",
      "_view_module_version": "1.2.0",
      "_view_name": "LayoutView",
      "align_content": null,
      "align_items": null,
      "align_self": null,
      "border": null,
      "bottom": null,
      "display": null,
      "flex": null,
      "flex_flow": null,
      "grid_area": null,
      "grid_auto_columns": null,
      "grid_auto_flow": null,
      "grid_auto_rows": null,
      "grid_column": null,
      "grid_gap": null,
      "grid_row": null,
      "grid_template_areas": null,
      "grid_template_columns": null,
      "grid_template_rows": null,
      "height": null,
      "justify_content": null,
      "justify_items": null,
      "left": null,
      "margin": null,
      "max_height": null,
      "max_width": null,
      "min_height": null,
      "min_width": null,
      "object_fit": null,
      "object_position": null,
      "order": null,
      "overflow": null,
      "overflow_x": null,
      "overflow_y": null,
      "padding": null,
      "right": null,
      "top": null,
      "visibility": null,
      "width": null
     }
    },
    "f7427738293a420290d3da1efd6bc97d": {
     "model_module": "@jupyter-widgets/base",
     "model_module_version": "1.2.0",
     "model_name": "LayoutModel",
     "state": {
      "_model_module": "@jupyter-widgets/base",
      "_model_module_version": "1.2.0",
      "_model_name": "LayoutModel",
      "_view_count": null,
      "_view_module": "@jupyter-widgets/base",
      "_view_module_version": "1.2.0",
      "_view_name": "LayoutView",
      "align_content": null,
      "align_items": null,
      "align_self": null,
      "border": null,
      "bottom": null,
      "display": null,
      "flex": null,
      "flex_flow": null,
      "grid_area": null,
      "grid_auto_columns": null,
      "grid_auto_flow": null,
      "grid_auto_rows": null,
      "grid_column": null,
      "grid_gap": null,
      "grid_row": null,
      "grid_template_areas": null,
      "grid_template_columns": null,
      "grid_template_rows": null,
      "height": null,
      "justify_content": null,
      "justify_items": null,
      "left": null,
      "margin": null,
      "max_height": null,
      "max_width": null,
      "min_height": null,
      "min_width": null,
      "object_fit": null,
      "object_position": null,
      "order": null,
      "overflow": null,
      "overflow_x": null,
      "overflow_y": null,
      "padding": null,
      "right": null,
      "top": null,
      "visibility": null,
      "width": null
     }
    }
   }
  }
 },
 "nbformat": 4,
 "nbformat_minor": 4
}
